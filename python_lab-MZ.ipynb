{
 "cells": [
  {
   "cell_type": "markdown",
   "metadata": {
    "toc": true
   },
   "source": [
    "<h1>Table of Contents<span class=\"tocSkip\"></span></h1>\n",
    "<div class=\"toc\"><ul class=\"toc-item\"><li><span><a href=\"#Control-flow\" data-toc-modified-id=\"Control-flow-1\"><span class=\"toc-item-num\">1&nbsp;&nbsp;</span>Control flow</a></span><ul class=\"toc-item\"><li><ul class=\"toc-item\"><li><ul class=\"toc-item\"><li><span><a href=\"#1.-Create-and-print-a-list-of-consecutive-integers-starting-with-1-and-ending-with-50.\" data-toc-modified-id=\"1.-Create-and-print-a-list-of-consecutive-integers-starting-with-1-and-ending-with-50.-1.0.0.1\"><span class=\"toc-item-num\">1.0.0.1&nbsp;&nbsp;</span>1. Create and print a list of consecutive integers starting with 1 and ending with 50.</a></span></li><li><span><a href=\"#2.-Create-and-print-a-list-of-even-numbers-starting-with-2-and-ending-with-200.\" data-toc-modified-id=\"2.-Create-and-print-a-list-of-even-numbers-starting-with-2-and-ending-with-200.-1.0.0.2\"><span class=\"toc-item-num\">1.0.0.2&nbsp;&nbsp;</span>2. Create and print a list of even numbers starting with 2 and ending with 200.</a></span></li><li><span><a href=\"#3.-Create-and-print-a-list-containing-all-elements-of-the-10-x-4-array-below.\" data-toc-modified-id=\"3.-Create-and-print-a-list-containing-all-elements-of-the-10-x-4-array-below.-1.0.0.3\"><span class=\"toc-item-num\">1.0.0.3&nbsp;&nbsp;</span>3. Create and print a list containing all elements of the 10 x 4 array below.</a></span></li><li><span><a href=\"#4.-Add-a-condition-to-the-loop-above-so-that-only-values-greater-than-or-equal-to-0.5-are-printed.\" data-toc-modified-id=\"4.-Add-a-condition-to-the-loop-above-so-that-only-values-greater-than-or-equal-to-0.5-are-printed.-1.0.0.4\"><span class=\"toc-item-num\">1.0.0.4&nbsp;&nbsp;</span>4. Add a condition to the loop above so that only values greater than or equal to 0.5 are printed.</a></span></li><li><span><a href=\"#5.-Use-a-loop-to-create-and-print-a-list-containing-all-elements-of-the-5-x-2-x-3-array-below.\" data-toc-modified-id=\"5.-Use-a-loop-to-create-and-print-a-list-containing-all-elements-of-the-5-x-2-x-3-array-below.-1.0.0.5\"><span class=\"toc-item-num\">1.0.0.5&nbsp;&nbsp;</span>5. Use a loop to create and print a list containing all elements of the 5 x 2 x 3 array below.</a></span></li><li><span><a href=\"#6.-Add-a-condition-to-the-loop-above-so-that-the-last-value-in-each-subarray-is-printed,-but-only-if-it-is-less-than-or-equal-to-0.5.\" data-toc-modified-id=\"6.-Add-a-condition-to-the-loop-above-so-that-the-last-value-in-each-subarray-is-printed,-but-only-if-it-is-less-than-or-equal-to-0.5.-1.0.0.6\"><span class=\"toc-item-num\">1.0.0.6&nbsp;&nbsp;</span>6. Add a condition to the loop above so that the last value in each subarray is printed, but only if it is less than or equal to 0.5.</a></span></li><li><span><a href=\"#7.-Use-a-loop-to-select-and-print-the-names-of-all-CSV-files-in-the-/data-directory.\" data-toc-modified-id=\"7.-Use-a-loop-to-select-and-print-the-names-of-all-CSV-files-in-the-/data-directory.-1.0.0.7\"><span class=\"toc-item-num\">1.0.0.7&nbsp;&nbsp;</span>7. Use a loop to select and print the names of all CSV files in the <em>/data</em> directory.</a></span></li></ul></li><li><span><a href=\"#Bonus\" data-toc-modified-id=\"Bonus-1.0.1\"><span class=\"toc-item-num\">1.0.1&nbsp;&nbsp;</span>Bonus</a></span></li></ul></li></ul></li></ul></div>"
   ]
  },
  {
   "cell_type": "markdown",
   "metadata": {},
   "source": [
    "# Control flow\n",
    "\n",
    "Complete the following set of exercises to solidify your knowledge of list comprehensions."
   ]
  },
  {
   "cell_type": "code",
   "execution_count": 1,
   "metadata": {},
   "outputs": [],
   "source": [
    "import os"
   ]
  },
  {
   "cell_type": "markdown",
   "metadata": {},
   "source": [
    "#### 1. Create and print a list of consecutive integers starting with 1 and ending with 50."
   ]
  },
  {
   "cell_type": "code",
   "execution_count": 2,
   "metadata": {},
   "outputs": [
    {
     "name": "stdout",
     "output_type": "stream",
     "text": [
      "[1, 2, 3, 4, 5, 6, 7, 8, 9, 10, 11, 12, 13, 14, 15, 16, 17, 18, 19, 20, 21, 22, 23, 24, 25, 26, 27, 28, 29, 30, 31, 32, 33, 34, 35, 36, 37, 38, 39, 40, 41, 42, 43, 44, 45, 46, 47, 48, 49, 50]\n"
     ]
    }
   ],
   "source": [
    "lst = list (range(1,51))\n",
    "print(lst)\n"
   ]
  },
  {
   "cell_type": "markdown",
   "metadata": {},
   "source": [
    "#### 2. Create and print a list of even numbers starting with 2 and ending with 200."
   ]
  },
  {
   "cell_type": "code",
   "execution_count": 3,
   "metadata": {},
   "outputs": [
    {
     "name": "stdout",
     "output_type": "stream",
     "text": [
      "[1, 2, 3, 4, 5, 6, 7, 8, 9, 10, 11, 12, 13, 14, 15, 16, 17, 18, 19, 20, 21, 22, 23, 24, 25, 26, 27, 28, 29, 30, 31, 32, 33, 34, 35, 36, 37, 38, 39, 40, 41, 42, 43, 44, 45, 46, 47, 48, 49, 50, 51, 52, 53, 54, 55, 56, 57, 58, 59, 60, 61, 62, 63, 64, 65, 66, 67, 68, 69, 70, 71, 72, 73, 74, 75, 76, 77, 78, 79, 80, 81, 82, 83, 84, 85, 86, 87, 88, 89, 90, 91, 92, 93, 94, 95, 96, 97, 98, 99, 100, 101, 102, 103, 104, 105, 106, 107, 108, 109, 110, 111, 112, 113, 114, 115, 116, 117, 118, 119, 120, 121, 122, 123, 124, 125, 126, 127, 128, 129, 130, 131, 132, 133, 134, 135, 136, 137, 138, 139, 140, 141, 142, 143, 144, 145, 146, 147, 148, 149, 150, 151, 152, 153, 154, 155, 156, 157, 158, 159, 160, 161, 162, 163, 164, 165, 166, 167, 168, 169, 170, 171, 172, 173, 174, 175, 176, 177, 178, 179, 180, 181, 182, 183, 184, 185, 186, 187, 188, 189, 190, 191, 192, 193, 194, 195, 196, 197, 198, 199, 200]\n"
     ]
    }
   ],
   "source": [
    "lst2 = list (range(1,201))\n",
    "print(lst2)"
   ]
  },
  {
   "cell_type": "markdown",
   "metadata": {},
   "source": [
    "#### 3. Create and print a list containing all elements of the 10 x 4 array below."
   ]
  },
  {
   "cell_type": "code",
   "execution_count": 4,
   "metadata": {},
   "outputs": [],
   "source": [
    "a = [[0.84062117, 0.48006452, 0.7876326 , 0.77109654],\n",
    "       [0.44409793, 0.09014516, 0.81835917, 0.87645456],\n",
    "       [0.7066597 , 0.09610873, 0.41247947, 0.57433389],\n",
    "       [0.29960807, 0.42315023, 0.34452557, 0.4751035 ],\n",
    "       [0.17003563, 0.46843998, 0.92796258, 0.69814654],\n",
    "       [0.41290051, 0.19561071, 0.16284783, 0.97016248],\n",
    "       [0.71725408, 0.87702738, 0.31244595, 0.76615487],\n",
    "       [0.20754036, 0.57871812, 0.07214068, 0.40356048],\n",
    "       [0.12149553, 0.53222417, 0.9976855 , 0.12536346],\n",
    "       [0.80930099, 0.50962849, 0.94555126, 0.33364763]];"
   ]
  },
  {
   "cell_type": "code",
   "execution_count": 5,
   "metadata": {},
   "outputs": [
    {
     "name": "stdout",
     "output_type": "stream",
     "text": [
      "[0.84062117, 0.48006452, 0.7876326, 0.77109654, 0.44409793, 0.09014516, 0.81835917, 0.87645456, 0.7066597, 0.09610873, 0.41247947, 0.57433389, 0.29960807, 0.42315023, 0.34452557, 0.4751035, 0.17003563, 0.46843998, 0.92796258, 0.69814654, 0.41290051, 0.19561071, 0.16284783, 0.97016248, 0.71725408, 0.87702738, 0.31244595, 0.76615487, 0.20754036, 0.57871812, 0.07214068, 0.40356048, 0.12149553, 0.53222417, 0.9976855, 0.12536346, 0.80930099, 0.50962849, 0.94555126, 0.33364763]\n"
     ]
    }
   ],
   "source": [
    "nueva_lista = []\n",
    "for sub_lista in a:\n",
    "    for x in sub_lista:\n",
    "        nueva_lista.append(x)\n",
    "print(nueva_lista)\n",
    "    "
   ]
  },
  {
   "cell_type": "markdown",
   "metadata": {},
   "source": [
    "#### 4. Add a condition to the loop above so that only values greater than or equal to 0.5 are printed."
   ]
  },
  {
   "cell_type": "code",
   "execution_count": 6,
   "metadata": {},
   "outputs": [
    {
     "name": "stdout",
     "output_type": "stream",
     "text": [
      "[0.84062117, 0.7876326, 0.77109654, 0.81835917, 0.87645456, 0.7066597, 0.57433389, 0.92796258, 0.69814654, 0.97016248, 0.71725408, 0.87702738, 0.76615487, 0.57871812, 0.53222417, 0.9976855, 0.80930099, 0.50962849, 0.94555126]\n"
     ]
    }
   ],
   "source": [
    "nueva_lista =[]\n",
    "for sub_lista in a:\n",
    "    for x in sub_lista:\n",
    "        if x >= 0.5:\n",
    "            nueva_lista.append(x)\n",
    "            \n",
    "print(nueva_lista)\n",
    "    "
   ]
  },
  {
   "cell_type": "markdown",
   "metadata": {},
   "source": [
    "#### 5. Use a loop to create and print a list containing all elements of the 5 x 2 x 3 array below."
   ]
  },
  {
   "cell_type": "code",
   "execution_count": 27,
   "metadata": {},
   "outputs": [],
   "source": [
    "b = [[[0.55867166, 0.06210792, 0.08147297],\n",
    "        [0.82579068, 0.91512478, 0.06833034]],\n",
    "\n",
    "       [[0.05440634, 0.65857693, 0.30296619],\n",
    "        [0.06769833, 0.96031863, 0.51293743]],\n",
    "\n",
    "       [[0.09143215, 0.71893382, 0.45850679],\n",
    "        [0.58256464, 0.59005654, 0.56266457]],\n",
    "\n",
    "       [[0.71600294, 0.87392666, 0.11434044],\n",
    "        [0.8694668 , 0.65669313, 0.10708681]],\n",
    "\n",
    "       [[0.07529684, 0.46470767, 0.47984544],\n",
    "        [0.65368638, 0.14901286, 0.23760688]]];"
   ]
  },
  {
   "cell_type": "code",
   "execution_count": 25,
   "metadata": {},
   "outputs": [
    {
     "name": "stdout",
     "output_type": "stream",
     "text": [
      "[0.55867166, 0.06210792, 0.08147297, 0.82579068, 0.91512478, 0.06833034, 0.05440634, 0.65857693, 0.30296619, 0.06769833, 0.96031863, 0.51293743, 0.09143215, 0.71893382, 0.45850679, 0.58256464, 0.59005654, 0.56266457, 0.71600294, 0.87392666, 0.11434044, 0.8694668, 0.65669313, 0.10708681, 0.07529684, 0.46470767, 0.47984544, 0.65368638, 0.14901286, 0.23760688]\n"
     ]
    }
   ],
   "source": [
    "nueva_lista = []\n",
    "for x in b:\n",
    "    for y in x:\n",
    "        for z in y:\n",
    "            nueva_lista.append(z)\n",
    "print(nueva_lista)"
   ]
  },
  {
   "cell_type": "markdown",
   "metadata": {},
   "source": [
    "#### 6. Add a condition to the loop above so that the last value in each subarray is printed, but only if it is less than or equal to 0.5."
   ]
  },
  {
   "cell_type": "code",
   "execution_count": 36,
   "metadata": {},
   "outputs": [
    {
     "name": "stdout",
     "output_type": "stream",
     "text": [
      "0.08147297\n",
      "0.06833034\n",
      "0.30296619\n",
      "0.45850679\n",
      "0.11434044\n",
      "0.10708681\n",
      "0.47984544\n",
      "0.23760688\n"
     ]
    }
   ],
   "source": [
    "b = [[[0.55867166, 0.06210792, 0.08147297],\n",
    "        [0.82579068, 0.91512478, 0.06833034]],\n",
    "\n",
    "       [[0.05440634, 0.65857693, 0.30296619],\n",
    "        [0.06769833, 0.96031863, 0.51293743]],\n",
    "\n",
    "       [[0.09143215, 0.71893382, 0.45850679],\n",
    "        [0.58256464, 0.59005654, 0.56266457]],\n",
    "\n",
    "       [[0.71600294, 0.87392666, 0.11434044],\n",
    "        [0.8694668 , 0.65669313, 0.10708681]],\n",
    "\n",
    "       [[0.07529684, 0.46470767, 0.47984544],\n",
    "        [0.65368638, 0.14901286, 0.23760688]]];\n",
    "for lista1 in b:\n",
    "    for lista2 in lista1:\n",
    "        if lista2 [-1] <= 0.5:\n",
    "            print(lista2[-1])\n"
   ]
  },
  {
   "cell_type": "markdown",
   "metadata": {},
   "source": [
    "#### 7. Use a loop to select and print the names of all CSV files in the */data* directory."
   ]
  },
  {
   "cell_type": "code",
   "execution_count": 38,
   "metadata": {},
   "outputs": [],
   "source": [
    "import os"
   ]
  },
  {
   "cell_type": "code",
   "execution_count": 48,
   "metadata": {},
   "outputs": [],
   "source": [
    "names = os.listdir(r\"C:\\Users\\manue\\OneDrive\\Escritorio\\Ironhack\\1.2-lab-list-comprehension\\data\")"
   ]
  },
  {
   "cell_type": "code",
   "execution_count": 49,
   "metadata": {},
   "outputs": [
    {
     "data": {
      "text/plain": [
       "['sample_file_0.csv',\n",
       " 'sample_file_0.txt',\n",
       " 'sample_file_1.csv',\n",
       " 'sample_file_1.txt',\n",
       " 'sample_file_2.csv',\n",
       " 'sample_file_2.txt',\n",
       " 'sample_file_3.csv',\n",
       " 'sample_file_3.txt',\n",
       " 'sample_file_4.csv',\n",
       " 'sample_file_4.txt',\n",
       " 'sample_file_5.csv',\n",
       " 'sample_file_5.txt',\n",
       " 'sample_file_6.csv',\n",
       " 'sample_file_6.txt',\n",
       " 'sample_file_7.csv',\n",
       " 'sample_file_7.txt',\n",
       " 'sample_file_8.csv',\n",
       " 'sample_file_8.txt',\n",
       " 'sample_file_9.csv',\n",
       " 'sample_file_9.txt']"
      ]
     },
     "execution_count": 49,
     "metadata": {},
     "output_type": "execute_result"
    }
   ],
   "source": [
    "names"
   ]
  },
  {
   "cell_type": "code",
   "execution_count": null,
   "metadata": {},
   "outputs": [],
   "source": []
  }
 ],
 "metadata": {
  "kernelspec": {
   "display_name": "Python 3 (ipykernel)",
   "language": "python",
   "name": "python3"
  },
  "language_info": {
   "codemirror_mode": {
    "name": "ipython",
    "version": 3
   },
   "file_extension": ".py",
   "mimetype": "text/x-python",
   "name": "python",
   "nbconvert_exporter": "python",
   "pygments_lexer": "ipython3",
   "version": "3.9.13"
  },
  "toc": {
   "base_numbering": 1,
   "nav_menu": {},
   "number_sections": true,
   "sideBar": true,
   "skip_h1_title": false,
   "title_cell": "Table of Contents",
   "title_sidebar": "Contents",
   "toc_cell": true,
   "toc_position": {},
   "toc_section_display": true,
   "toc_window_display": false
  },
  "varInspector": {
   "cols": {
    "lenName": 16,
    "lenType": 16,
    "lenVar": 40
   },
   "kernels_config": {
    "python": {
     "delete_cmd_postfix": "",
     "delete_cmd_prefix": "del ",
     "library": "var_list.py",
     "varRefreshCmd": "print(var_dic_list())"
    },
    "r": {
     "delete_cmd_postfix": ") ",
     "delete_cmd_prefix": "rm(",
     "library": "var_list.r",
     "varRefreshCmd": "cat(var_dic_list()) "
    }
   },
   "types_to_exclude": [
    "module",
    "function",
    "builtin_function_or_method",
    "instance",
    "_Feature"
   ],
   "window_display": false
  }
 },
 "nbformat": 4,
 "nbformat_minor": 2
}
